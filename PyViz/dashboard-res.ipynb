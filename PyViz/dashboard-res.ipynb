{
 "cells": [
  {
   "cell_type": "markdown",
   "metadata": {},
   "source": [
    "# San Francisco Rental Prices Dashboard\n",
    "\n",
    "In this notebook, you will compile the visualizations from the previous analysis into functions that can be used for a Panel dashboard."
   ]
  },
  {
   "cell_type": "code",
   "execution_count": null,
   "metadata": {},
   "outputs": [],
   "source": [
    "# imports\n",
    "import panel as pn\n",
    "pn.extension('plotly')\n",
    "import plotly.express as px\n",
    "import pandas as pd\n",
    "import hvplot.pandas\n",
    "import matplotlib.pyplot as plt\n",
    "import numpy as np\n",
    "import os\n",
    "from pathlib import Path\n",
    "from dotenv import load_dotenv"
   ]
  },
  {
   "cell_type": "code",
   "execution_count": null,
   "metadata": {},
   "outputs": [],
   "source": [
    "# Read the Mapbox API key\n",
    "load_dotenv(\"sample.env\")\n",
    "mapbox_token = os.getenv(\"mapbox\")\n",
    "\n",
    "# Set MapBox token\n",
    "px.set_mapbox_access_token(mapbox_token)"
   ]
  },
  {
   "cell_type": "markdown",
   "metadata": {},
   "source": [
    "# Import Data"
   ]
  },
  {
   "cell_type": "code",
   "execution_count": null,
   "metadata": {},
   "outputs": [],
   "source": [
    "# Import the necessary CSVs to Pandas DataFrames\n",
    "file_path = Path(\"Data/sfo_neighborhoods_census_data.csv\")\n",
    "sfo_data = pd.read_csv(file_path, index_col=\"year\").drop_duplicates()\n",
    "\n",
    "file_path = Path(\"Data/neighborhoods_coordinates.csv\")\n",
    "df_neighborhood_locations = pd.read_csv(file_path).drop_duplicates()"
   ]
  },
  {
   "cell_type": "markdown",
   "metadata": {},
   "source": [
    "- - -"
   ]
  },
  {
   "cell_type": "markdown",
   "metadata": {},
   "source": [
    "## Panel Visualizations\n",
    "\n",
    "In this section, you will copy the code for each plot type from your analysis notebook and place it into separate functions that Panel can use to create panes for the dashboard. \n",
    "\n",
    "These functions will convert the plot object to a Panel pane.\n",
    "\n",
    "Be sure to include any DataFrame transformation/manipulation code required along with the plotting code.\n",
    "\n",
    "Return a Panel pane object from each function that can be used to build the dashboard.\n",
    "\n",
    "Note: Remove any `.show()` lines from the code. We want to return the plots instead of showing them. The Panel dashboard will then display the plots."
   ]
  },
  {
   "cell_type": "code",
   "execution_count": null,
   "metadata": {},
   "outputs": [],
   "source": [
    "# Define Panel Visualization Functions\n",
    "def housing_units_per_year():\n",
    "    \"\"\"Housing Units Per Year.\"\"\"\n",
    "    \n",
    "     sfo_housing_units_per_year = sfo_data.groupby(by=[sfo_data.index])[\"housing_units\"].mean().reset_index()\n",
    "\n",
    "\n",
    "\n",
    "def average_gross_rent():\n",
    "    \"\"\"Average Gross Rent in San Francisco Per Year.\"\"\"\n",
    "    \n",
    "    sfo_rent_sale = sfo_data.groupby(by=[sfo_data.index])[\"gross_rent\"].mean().reset_index()\n",
    "\n",
    "    # Plot the average gross rent per year\n",
    "    return px.bar(\n",
    "        sfo_rent_sale, \n",
    "        x=\"year\",\n",
    "        y=\"gross_rent\",\n",
    "        title=\"Average Gross Rent in San Francisco Per Year\"\n",
    "    )\n",
    "\n",
    "\n",
    "def average_sales_price():\n",
    "    \"\"\"Average Sales Price Per Year.\"\"\"\n",
    "    \n",
    "    sfo_rent_sale = sfo_data.groupby(by=[sfo_data.index])[\"sale_price_sqr_foot\"].mean().reset_index()\n",
    "\n",
    "    # Plot the average sales price per year\n",
    "    return px.bar(\n",
    "        sfo_rent_sale, \n",
    "        x=\"year\",\n",
    "        y=\"sale_price_sqr_foot\",\n",
    "        title=\"Average Sales Price Per Year\"\n",
    "    )\n",
    "\n",
    "\n",
    "\n",
    "def average_price_by_neighborhood():\n",
    "    \"\"\"Average Prices by Neighborhood.\"\"\"\n",
    "    \n",
    "    neighborhood_data = sfo_data.groupby(by=[sfo_data.index, \"neighborhood\"]).mean().reset_index()\n",
    "\n",
    "    return neighborhood_data.hvplot.line(x=\"year\", y=\"sale_price_sqr_foot\", groupby=\"neighborhood\", ylabel=\"Average Prices by Neighborhood\", xlabel=\"Year\", sort_date=True)\n",
    "\n",
    "\n",
    "\n",
    "\n",
    "def top_most_expensive_neighborhoods():\n",
    "    \"\"\"Top 10 Most Expensive Neighborhoods.\"\"\"\n",
    "    \n",
    "    # Getting the data from the top 10 expensive neighborhoods\n",
    "    by_neighborhood = sfo_data.groupby(by=[\"neighborhood\"]).mean().sort_values(by=\"sale_price_sqr_foot\", ascending=False)\n",
    "    by_neighborhood.reset_index(inplace=True)\n",
    "    by_neighborhood_top10 = by_neighborhood.head(10)\n",
    "\n",
    "    return by_neighborhood_top10.hvplot.bar(x=\"neighborhood\", y=\"sale_price_sqr_foot\", title=\"Top 10 Expensive Neighborhood in SFO\", ylabel=\"Avg. Sale Price per Square Foot\", xlabel=\"Neighborhood\", rot=90, height=400)\n",
    "\n",
    "\n",
    "def most_expensive_neighborhoods_rent_sales():\n",
    "    \"\"\"Comparison of Rent and Sales Prices of Most Expensive Neighborhoods.\"\"\"   \n",
    "    \n",
    "    # YOUR CODE HERE!\n",
    "\n",
    "    \n",
    "    \n",
    "def parallel_coordinates():\n",
    "    \"\"\"Parallel Coordinates Plot.\"\"\"\n",
    "    \n",
    "    # Getting the data from the top 10 expensive neighborhoods\n",
    "    by_neighborhood = sfo_data.groupby(by=[\"neighborhood\"]).mean().sort_values(by=\"sale_price_sqr_foot\", ascending=False)\n",
    "    by_neighborhood.reset_index(inplace=True)\n",
    "    by_neighborhood_top10 = by_neighborhood.head(10)\n",
    "\n",
    "    return px.parallel_coordinates(by_neighborhood_top10, dimensions=[\"sale_price_sqr_foot\", \"housing_units\", \"gross_rent\"], color=\"sale_price_sqr_foot\")\n",
    "\n",
    "\n",
    "\n",
    "def parallel_categories():\n",
    "    \"\"\"Parallel Categories Plot.\"\"\"\n",
    "    \n",
    "    # Getting the data from the top 10 expensive neighborhoods\n",
    "    by_neighborhood = sfo_data.groupby(by=[\"neighborhood\"]).mean().sort_values(by=\"sale_price_sqr_foot\", ascending=False)\n",
    "    by_neighborhood.reset_index(inplace=True)\n",
    "    by_neighborhood_top10 = by_neighborhood.head(10)\n",
    "\n",
    "    return px.parallel_categories(by_neighborhood_top10, color=\"sale_price_sqr_foot\")!\n",
    "\n",
    "\n",
    "\n",
    "def neighborhood_map():\n",
    "    \"\"\"Neighborhood Map.\"\"\"\n",
    "\n",
    "    by_neighborhood = sfo_data.groupby(by=[\"neighborhood\"]).mean()\n",
    "    by_neighborhood.reset_index(inplace=True)\n",
    "\n",
    "\n",
    "def sunburst():\n",
    "    \"\"\"Sunburst Plot.\"\"\"\n",
    "    \n",
    "    # YOUR CODE HERE!\n"
   ]
  },
  {
   "cell_type": "markdown",
   "metadata": {},
   "source": [
    "## Panel Dashboard\n",
    "\n",
    "In this section, you will combine all of the plots into a single dashboard view using Panel. Be creative with your dashboard design!"
   ]
  },
  {
   "cell_type": "code",
   "execution_count": null,
   "metadata": {},
   "outputs": [],
   "source": [
    "# Create a Title for the Dashboard\n",
    "# YOUR CODE HERE!\n",
    "\n",
    "\n",
    "# Create a tab layout for the dashboard\n",
    "summary_plot = pn.Column('Data shown in the map is from 2011 to 2016. The larger the circle, the higher the average sale price per square foot. Click and drag to move around in the map. Use the scroll button to zoom in and out of the map. Hovering over the circles will display the info about the neighborhood. You will also see a set of controls on the top right if you hover over the visualization.', neighborhood_map)\n",
    "parallel_plots = pn.Column('Interestingly, the neighborhood with the highest sale price per square foot has a lower gross rent than the other neighborhoods.', parallel_coordinates, parallel_categories)\n",
    "neighborhood_plots = pn.Column('The top 10 most expensive neighborhoods are all averaging above a sale price of $650/square foot.', top_most_expensive_neighborhoods, average_price_by_neighborhood)\n",
    "yearly_plots = pn.Column('The number of housing units per year remain relative stable however the average sale price and gross rent value has climbed steadily.', housing_units_per_year, average_sales_price, average_gross_rent)\n",
    "\n",
    "\n",
    "\n",
    "# Create the dashboard\n",
    "dashboard = pn.Tabs(\n",
    "    ('Summary', summary_plot),\n",
    "    ('Yearly Analysis', yearly_plots), \n",
    "    ('Neighborhood Analysis', neighborhood_plots),\n",
    "    ('Top 10 Neighborhoods', parallel_plots)\n",
    ")"
   ]
  },
  {
   "cell_type": "markdown",
   "metadata": {},
   "source": [
    "## Serve the Panel Dashboard"
   ]
  },
  {
   "cell_type": "code",
   "execution_count": null,
   "metadata": {},
   "outputs": [],
   "source": [
    "# Serve the# dashboard\n",
    "dashboard.servable()"
   ]
  },
  {
   "cell_type": "markdown",
   "metadata": {},
   "source": [
    "# Debugging\n",
    "\n",
    "Note: Some of the Plotly express plots may not render in the notebook through the panel functions.\n",
    "\n",
    "However, you can test each plot by uncommenting the following code"
   ]
  },
  {
   "cell_type": "code",
   "execution_count": null,
   "metadata": {},
   "outputs": [],
   "source": [
    "# housing_units_per_year()"
   ]
  },
  {
   "cell_type": "code",
   "execution_count": null,
   "metadata": {},
   "outputs": [],
   "source": [
    "# average_gross_rent()"
   ]
  },
  {
   "cell_type": "code",
   "execution_count": null,
   "metadata": {},
   "outputs": [],
   "source": [
    "# average_sales_price()"
   ]
  },
  {
   "cell_type": "code",
   "execution_count": null,
   "metadata": {},
   "outputs": [],
   "source": [
    "# average_price_by_neighborhood()"
   ]
  },
  {
   "cell_type": "code",
   "execution_count": null,
   "metadata": {},
   "outputs": [],
   "source": [
    "# top_most_expensive_neighborhoods()"
   ]
  },
  {
   "cell_type": "code",
   "execution_count": null,
   "metadata": {},
   "outputs": [],
   "source": [
    "# most_expensive_neighborhoods_rent_sales()"
   ]
  },
  {
   "cell_type": "code",
   "execution_count": null,
   "metadata": {},
   "outputs": [],
   "source": [
    "# neighborhood_map().show()"
   ]
  },
  {
   "cell_type": "code",
   "execution_count": null,
   "metadata": {},
   "outputs": [],
   "source": [
    "# parallel_categories()"
   ]
  },
  {
   "cell_type": "code",
   "execution_count": null,
   "metadata": {},
   "outputs": [],
   "source": [
    "# parallel_coordinates()"
   ]
  },
  {
   "cell_type": "code",
   "execution_count": null,
   "metadata": {},
   "outputs": [],
   "source": [
    "# sunburst()"
   ]
  },
  {
   "cell_type": "code",
   "execution_count": null,
   "metadata": {},
   "outputs": [],
   "source": []
  }
 ],
 "metadata": {
  "file_extension": ".py",
  "kernelspec": {
   "display_name": "Python [conda env:pyvizenv]",
   "language": "python",
   "name": "conda-env-pyvizenv-py"
  },
  "language_info": {
   "codemirror_mode": {
    "name": "ipython",
    "version": 3
   },
   "file_extension": ".py",
   "mimetype": "text/x-python",
   "name": "python",
   "nbconvert_exporter": "python",
   "pygments_lexer": "ipython3",
   "version": "3.7.9"
  },
  "mimetype": "text/x-python",
  "name": "python",
  "npconvert_exporter": "python",
  "pygments_lexer": "ipython3",
  "version": 3
 },
 "nbformat": 4,
 "nbformat_minor": 4
}
